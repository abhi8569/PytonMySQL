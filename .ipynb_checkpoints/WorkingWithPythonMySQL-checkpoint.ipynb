{
 "cells": [
  {
   "cell_type": "code",
   "execution_count": 17,
   "metadata": {},
   "outputs": [
    {
     "name": "stdout",
     "output_type": "stream",
     "text": [
      "True\n"
     ]
    }
   ],
   "source": [
    "import mysql.connector\n",
    "from mysql.connector import Error\n",
    "\n",
    "#Connecting to the Server\n",
    "connection = mysql.connector.connect(host='localhost',\n",
    "                                    user='admin',\n",
    "                                    password='password',\n",
    "                                    database='HelloThere')\n",
    "print(connection.is_connected())\n",
    "\n",
    "#create cursor \n",
    "cursor = connection.cursor()\n",
    "\n",
    "#Already Created the Database in first Run\n",
    "#cursor.execute('create database HelloThere')\n",
    "\n",
    "cursor.execute('create table dummy1 (id int(3) NOT NULL,Name varchar(100), City varchar(50))')"
   ]
  },
  {
   "cell_type": "code",
   "execution_count": null,
   "metadata": {},
   "outputs": [],
   "source": []
  }
 ],
 "metadata": {
  "kernelspec": {
   "display_name": "Python 3",
   "language": "python",
   "name": "python3"
  },
  "language_info": {
   "codemirror_mode": {
    "name": "ipython",
    "version": 3
   },
   "file_extension": ".py",
   "mimetype": "text/x-python",
   "name": "python",
   "nbconvert_exporter": "python",
   "pygments_lexer": "ipython3",
   "version": "3.7.3"
  }
 },
 "nbformat": 4,
 "nbformat_minor": 2
}
